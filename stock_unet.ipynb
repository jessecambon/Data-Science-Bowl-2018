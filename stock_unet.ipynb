{
 "cells": [
  {
   "cell_type": "markdown",
   "metadata": {
    "_cell_guid": "e61ef2d8-f315-4f7f-b07e-1de0f4e8441a",
    "_uuid": "1677fddbb95f7545b6540e9201f3339a0fdbfc5d"
   },
   "source": [
    "# Intro\n",
    "Hello! This rather quick and dirty kernel shows how to get started on segmenting nuclei using a neural network in Keras. \n",
    "\n",
    "The architecture used is the so-called [U-Net](https://arxiv.org/abs/1505.04597), which is very common for image segmentation problems such as this. I believe they also have a tendency to work quite well even on small datasets.\n",
    "\n",
    "Let's get started importing everything we need!"
   ]
  },
  {
   "cell_type": "code",
   "execution_count": 1,
   "metadata": {
    "_cell_guid": "c332549b-8d23-4bb5-8497-e7a8eb8b21d2",
    "_uuid": "5c38504af3a84bee68c66d3cde74443c58df422f"
   },
   "outputs": [
    {
     "name": "stderr",
     "output_type": "stream",
     "text": [
      "Using TensorFlow backend.\n"
     ]
    }
   ],
   "source": [
    "import os\n",
    "import sys\n",
    "import random\n",
    "import warnings\n",
    "\n",
    "import numpy as np\n",
    "import pandas as pd\n",
    "\n",
    "import matplotlib.pyplot as plt\n",
    "\n",
    "from tqdm import tqdm\n",
    "from itertools import chain\n",
    "from skimage.io import imread, imshow, imread_collection, concatenate_images\n",
    "from skimage.transform import resize\n",
    "from skimage.morphology import label\n",
    "\n",
    "from keras.models import Model, load_model\n",
    "from keras.layers import Input\n",
    "from keras.layers.core import Dropout, Lambda\n",
    "from keras.layers.convolutional import Conv2D, Conv2DTranspose\n",
    "from keras.layers.pooling import MaxPooling2D\n",
    "from keras.layers.merge import concatenate\n",
    "from keras.callbacks import EarlyStopping, ModelCheckpoint\n",
    "from keras import backend as K\n",
    "\n",
    "import tensorflow as tf\n",
    "\n",
    "# Set some parameters\n",
    "IMG_WIDTH = 128\n",
    "IMG_HEIGHT = 128\n",
    "IMG_CHANNELS = 3\n",
    "TRAIN_PATH = './stage1_train/'\n",
    "TEST_PATH = './stage1_test/'\n",
    "\n",
    "warnings.filterwarnings('ignore', category=UserWarning, module='skimage')\n",
    "seed = 42\n",
    "random.seed = seed\n",
    "np.random.seed = seed"
   ]
  },
  {
   "cell_type": "code",
   "execution_count": 2,
   "metadata": {
    "_cell_guid": "ffa0caf0-2d1b-40f2-865b-8e6db88526b6",
    "_uuid": "3fb9d6530fbbd0e22e41fc4fd9fd9fc0bff027ac",
    "collapsed": true
   },
   "outputs": [],
   "source": [
    "# Get train and test IDs\n",
    "train_ids = next(os.walk(TRAIN_PATH))[1]\n",
    "test_ids = next(os.walk(TEST_PATH))[1]"
   ]
  },
  {
   "cell_type": "markdown",
   "metadata": {
    "_cell_guid": "59c4a25d-645f-4b74-9c53-145ac78cc481",
    "_uuid": "875af74f980236825de3a650825b46e25632422c"
   },
   "source": [
    "# Get the data\n",
    "Let's first import all the images and associated masks. I downsample both the training and test images to keep things light and manageable, but we need to keep a record of the original sizes of the test images to upsample our predicted masks and create correct run-length encodings later on. There are definitely better ways to handle this, but it works fine for now!"
   ]
  },
  {
   "cell_type": "code",
   "execution_count": 3,
   "metadata": {
    "_cell_guid": "ca0cc34b-c26f-41ee-88d7-975aebdb634e",
    "_uuid": "9e389ba8bdb5b6fc03b231b6a6c84a8bde634053"
   },
   "outputs": [
    {
     "name": "stdout",
     "output_type": "stream",
     "text": [
      "Getting and resizing train images and masks ... \n"
     ]
    },
    {
     "name": "stderr",
     "output_type": "stream",
     "text": [
      "100%|████████████████████████████████████████████████████████████████████████████████| 670/670 [09:37<00:00,  1.16it/s]\n"
     ]
    },
    {
     "name": "stdout",
     "output_type": "stream",
     "text": [
      "Getting and resizing test images ... \n"
     ]
    },
    {
     "name": "stderr",
     "output_type": "stream",
     "text": [
      "100%|██████████████████████████████████████████████████████████████████████████████████| 65/65 [00:03<00:00, 20.35it/s]\n"
     ]
    },
    {
     "name": "stdout",
     "output_type": "stream",
     "text": [
      "Done!\n"
     ]
    }
   ],
   "source": [
    "# Get and resize train images and masks\n",
    "X_train = np.zeros((len(train_ids), IMG_HEIGHT, IMG_WIDTH, IMG_CHANNELS), dtype=np.uint8)\n",
    "Y_train = np.zeros((len(train_ids), IMG_HEIGHT, IMG_WIDTH, 1), dtype=np.bool)\n",
    "print('Getting and resizing train images and masks ... ')\n",
    "sys.stdout.flush()\n",
    "for n, id_ in tqdm(enumerate(train_ids), total=len(train_ids)):\n",
    "    path = TRAIN_PATH + id_\n",
    "    img = imread(path + '/images/' + id_ + '.png')[:,:,:IMG_CHANNELS]\n",
    "    img = resize(img, (IMG_HEIGHT, IMG_WIDTH), mode='constant', preserve_range=True)\n",
    "    X_train[n] = img\n",
    "    mask = np.zeros((IMG_HEIGHT, IMG_WIDTH, 1), dtype=np.bool)\n",
    "    for mask_file in next(os.walk(path + '/masks/'))[2]:\n",
    "        mask_ = imread(path + '/masks/' + mask_file)\n",
    "        mask_ = np.expand_dims(resize(mask_, (IMG_HEIGHT, IMG_WIDTH), mode='constant', \n",
    "                                      preserve_range=True), axis=-1)\n",
    "        mask = np.maximum(mask, mask_)\n",
    "    Y_train[n] = mask\n",
    "\n",
    "# Get and resize test images\n",
    "X_test = np.zeros((len(test_ids), IMG_HEIGHT, IMG_WIDTH, IMG_CHANNELS), dtype=np.uint8)\n",
    "sizes_test = []\n",
    "print('Getting and resizing test images ... ')\n",
    "sys.stdout.flush()\n",
    "for n, id_ in tqdm(enumerate(test_ids), total=len(test_ids)):\n",
    "    path = TEST_PATH + id_\n",
    "    img = imread(path + '/images/' + id_ + '.png')[:,:,:IMG_CHANNELS]\n",
    "    sizes_test.append([img.shape[0], img.shape[1]])\n",
    "    img = resize(img, (IMG_HEIGHT, IMG_WIDTH), mode='constant', preserve_range=True)\n",
    "    X_test[n] = img\n",
    "\n",
    "print('Done!')"
   ]
  },
  {
   "cell_type": "markdown",
   "metadata": {
    "_cell_guid": "c0523b03-1fc5-4505-a1b8-eb35ee617c8a",
    "_uuid": "d4f8327802a1ec6139ce0585953986272ba62ce1"
   },
   "source": [
    "Let's see if things look all right by drawing some random images and their associated masks."
   ]
  },
  {
   "cell_type": "code",
   "execution_count": 4,
   "metadata": {
    "_cell_guid": "88829b53-50ce-45d9-9540-77dd7384ad4c",
    "_uuid": "283af26f0860b7069bdfd133c746e5d20971542c"
   },
   "outputs": [
    {
     "data": {
      "image/png": "[encoded data removed]",
      "text/plain": [
       "<matplotlib.figure.Figure at 0x1dd4b857a58>"
      ]
     },
     "metadata": {},
     "output_type": "display_data"
    },
    {
     "data": {
      "image/png": "[encoded data removed]",
      "text/plain": [
       "<matplotlib.figure.Figure at 0x1dd4b9b0c18>"
      ]
     },
     "metadata": {},
     "output_type": "display_data"
    }
   ],
   "source": [
    "# Check if training data looks all right\n",
    "ix = random.randint(0, len(train_ids))\n",
    "imshow(X_train[ix])\n",
    "plt.show()\n",
    "imshow(np.squeeze(Y_train[ix]))\n",
    "plt.show()"
   ]
  },
  {
   "cell_type": "markdown",
   "metadata": {
    "_cell_guid": "2574ffe9-b911-4bfd-a00f-9ba5c25f45de",
    "_uuid": "938648da705689a0f940ff462477c801db3f0737"
   },
   "source": [
    "Seems good!\n",
    "\n",
    "# Create our Keras metric\n",
    "\n",
    "Now we try to define the *mean average precision at different intersection over union (IoU) thresholds* metric in Keras. TensorFlow has a mean IoU metric, but it doesn't have any native support for the mean over multiple thresholds, so I tried to implement this. **I'm by no means certain that this implementation is correct, though!** Any assistance in verifying this would be most welcome! \n",
    "\n",
    "*Update: This implementation is most definitely not correct due to the very large discrepancy between the results reported here and the LB results. It also seems to just increase over time no matter what when you train ... *"
   ]
  },
  {
   "cell_type": "code",
   "execution_count": 1,
   "metadata": {
    "_cell_guid": "c1df6f3a-d58f-434b-9216-ef7be38637d4",
    "_uuid": "5abd38950ae99b60f8afec7656eb654a48d449fe",
    "collapsed": true
   },
   "outputs": [],
   "source": [
    "# Define IoU metric\n",
    "def mean_iou(y_true, y_pred):\n",
    "    prec = []\n",
    "    for t in np.arange(0.5, 1.0, 0.05):\n",
    "        y_pred_ = tf.to_int32(y_pred > t)\n",
    "        score, up_opt = tf.metrics.mean_iou(y_true, y_pred_, 2)\n",
    "        K.get_session().run(tf.local_variables_initializer())\n",
    "        with tf.control_dependencies([up_opt]):\n",
    "            score = tf.identity(score)\n",
    "        prec.append(score)\n",
    "    return K.mean(K.stack(prec), axis=0)\n",
    "\n",
    "# Metric function\n",
    "def dice_coef(y_true, y_pred):\n",
    "    y_true_f = K.flatten(y_true)\n",
    "    y_pred_f = K.flatten(y_pred)\n",
    "    intersection = K.sum(y_true_f * y_pred_f)\n",
    "    return (2. * intersection + smooth) / (K.sum(y_true_f) + K.sum(y_pred_f) + smooth)\n"
   ]
  },
  {
   "cell_type": "markdown",
   "metadata": {
    "_cell_guid": "c3b9f148-1dba-4b6a-981b-6cdbf394fc3c",
    "_uuid": "986488a4c5223576be370e224426a30431911eb2"
   },
   "source": [
    "# Build and train our neural network\n",
    "Next we build our U-Net model, loosely based on [U-Net: Convolutional Networks for Biomedical Image Segmentation](https://arxiv.org/pdf/1505.04597.pdf) and very similar to [this repo](https://github.com/jocicmarko/ultrasound-nerve-segmentation) from the Kaggle Ultrasound Nerve Segmentation competition.\n",
    "\n",
    "![](https://lmb.informatik.uni-freiburg.de/people/ronneber/u-net/u-net-architecture.png)"
   ]
  },
  {
   "cell_type": "code",
   "execution_count": 6,
   "metadata": {
    "_cell_guid": "c1dbc57c-b497-4ccb-b077-2053203ab7ed",
    "_uuid": "0aa97d66c29f45dfac9b0f45fcf74ba0e778ba5d"
   },
   "outputs": [
    {
     "name": "stdout",
     "output_type": "stream",
     "text": [
      "__________________________________________________________________________________________________\n",
      "Layer (type)                    Output Shape         Param #     Connected to                     \n",
      "==================================================================================================\n",
      "input_1 (InputLayer)            (None, 128, 128, 3)  0                                            \n",
      "__________________________________________________________________________________________________\n",
      "lambda_1 (Lambda)               (None, 128, 128, 3)  0           input_1[0][0]                    \n",
      "__________________________________________________________________________________________________\n",
      "conv2d_1 (Conv2D)               (None, 128, 128, 16) 448         lambda_1[0][0]                   \n",
      "__________________________________________________________________________________________________\n",
      "dropout_1 (Dropout)             (None, 128, 128, 16) 0           conv2d_1[0][0]                   \n",
      "__________________________________________________________________________________________________\n",
      "conv2d_2 (Conv2D)               (None, 128, 128, 16) 2320        dropout_1[0][0]                  \n",
      "__________________________________________________________________________________________________\n",
      "max_pooling2d_1 (MaxPooling2D)  (None, 64, 64, 16)   0           conv2d_2[0][0]                   \n",
      "__________________________________________________________________________________________________\n",
      "conv2d_3 (Conv2D)               (None, 64, 64, 32)   4640        max_pooling2d_1[0][0]            \n",
      "__________________________________________________________________________________________________\n",
      "dropout_2 (Dropout)             (None, 64, 64, 32)   0           conv2d_3[0][0]                   \n",
      "__________________________________________________________________________________________________\n",
      "conv2d_4 (Conv2D)               (None, 64, 64, 32)   9248        dropout_2[0][0]                  \n",
      "__________________________________________________________________________________________________\n",
      "max_pooling2d_2 (MaxPooling2D)  (None, 32, 32, 32)   0           conv2d_4[0][0]                   \n",
      "__________________________________________________________________________________________________\n",
      "conv2d_5 (Conv2D)               (None, 32, 32, 64)   18496       max_pooling2d_2[0][0]            \n",
      "__________________________________________________________________________________________________\n",
      "dropout_3 (Dropout)             (None, 32, 32, 64)   0           conv2d_5[0][0]                   \n",
      "__________________________________________________________________________________________________\n",
      "conv2d_6 (Conv2D)               (None, 32, 32, 64)   36928       dropout_3[0][0]                  \n",
      "__________________________________________________________________________________________________\n",
      "max_pooling2d_3 (MaxPooling2D)  (None, 16, 16, 64)   0           conv2d_6[0][0]                   \n",
      "__________________________________________________________________________________________________\n",
      "conv2d_7 (Conv2D)               (None, 16, 16, 128)  73856       max_pooling2d_3[0][0]            \n",
      "__________________________________________________________________________________________________\n",
      "dropout_4 (Dropout)             (None, 16, 16, 128)  0           conv2d_7[0][0]                   \n",
      "__________________________________________________________________________________________________\n",
      "conv2d_8 (Conv2D)               (None, 16, 16, 128)  147584      dropout_4[0][0]                  \n",
      "__________________________________________________________________________________________________\n",
      "max_pooling2d_4 (MaxPooling2D)  (None, 8, 8, 128)    0           conv2d_8[0][0]                   \n",
      "__________________________________________________________________________________________________\n",
      "conv2d_9 (Conv2D)               (None, 8, 8, 256)    295168      max_pooling2d_4[0][0]            \n",
      "__________________________________________________________________________________________________\n",
      "dropout_5 (Dropout)             (None, 8, 8, 256)    0           conv2d_9[0][0]                   \n",
      "__________________________________________________________________________________________________\n",
      "conv2d_10 (Conv2D)              (None, 8, 8, 256)    590080      dropout_5[0][0]                  \n",
      "__________________________________________________________________________________________________\n",
      "conv2d_transpose_1 (Conv2DTrans (None, 16, 16, 128)  131200      conv2d_10[0][0]                  \n",
      "__________________________________________________________________________________________________\n",
      "concatenate_1 (Concatenate)     (None, 16, 16, 256)  0           conv2d_transpose_1[0][0]         \n",
      "                                                                 conv2d_8[0][0]                   \n",
      "__________________________________________________________________________________________________\n",
      "conv2d_11 (Conv2D)              (None, 16, 16, 128)  295040      concatenate_1[0][0]              \n",
      "__________________________________________________________________________________________________\n",
      "dropout_6 (Dropout)             (None, 16, 16, 128)  0           conv2d_11[0][0]                  \n",
      "__________________________________________________________________________________________________\n",
      "conv2d_12 (Conv2D)              (None, 16, 16, 128)  147584      dropout_6[0][0]                  \n",
      "__________________________________________________________________________________________________\n",
      "conv2d_transpose_2 (Conv2DTrans (None, 32, 32, 64)   32832       conv2d_12[0][0]                  \n",
      "__________________________________________________________________________________________________\n",
      "concatenate_2 (Concatenate)     (None, 32, 32, 128)  0           conv2d_transpose_2[0][0]         \n",
      "                                                                 conv2d_6[0][0]                   \n",
      "__________________________________________________________________________________________________\n",
      "conv2d_13 (Conv2D)              (None, 32, 32, 64)   73792       concatenate_2[0][0]              \n",
      "__________________________________________________________________________________________________\n",
      "dropout_7 (Dropout)             (None, 32, 32, 64)   0           conv2d_13[0][0]                  \n",
      "__________________________________________________________________________________________________\n",
      "conv2d_14 (Conv2D)              (None, 32, 32, 64)   36928       dropout_7[0][0]                  \n",
      "__________________________________________________________________________________________________\n",
      "conv2d_transpose_3 (Conv2DTrans (None, 64, 64, 32)   8224        conv2d_14[0][0]                  \n",
      "__________________________________________________________________________________________________\n",
      "concatenate_3 (Concatenate)     (None, 64, 64, 64)   0           conv2d_transpose_3[0][0]         \n",
      "                                                                 conv2d_4[0][0]                   \n",
      "__________________________________________________________________________________________________\n",
      "conv2d_15 (Conv2D)              (None, 64, 64, 32)   18464       concatenate_3[0][0]              \n",
      "__________________________________________________________________________________________________\n",
      "dropout_8 (Dropout)             (None, 64, 64, 32)   0           conv2d_15[0][0]                  \n",
      "__________________________________________________________________________________________________\n",
      "conv2d_16 (Conv2D)              (None, 64, 64, 32)   9248        dropout_8[0][0]                  \n",
      "__________________________________________________________________________________________________\n",
      "conv2d_transpose_4 (Conv2DTrans (None, 128, 128, 16) 2064        conv2d_16[0][0]                  \n",
      "__________________________________________________________________________________________________\n",
      "concatenate_4 (Concatenate)     (None, 128, 128, 32) 0           conv2d_transpose_4[0][0]         \n",
      "                                                                 conv2d_2[0][0]                   \n",
      "__________________________________________________________________________________________________\n",
      "conv2d_17 (Conv2D)              (None, 128, 128, 16) 4624        concatenate_4[0][0]              \n",
      "__________________________________________________________________________________________________\n",
      "dropout_9 (Dropout)             (None, 128, 128, 16) 0           conv2d_17[0][0]                  \n",
      "__________________________________________________________________________________________________\n",
      "conv2d_18 (Conv2D)              (None, 128, 128, 16) 2320        dropout_9[0][0]                  \n",
      "__________________________________________________________________________________________________\n",
      "conv2d_19 (Conv2D)              (None, 128, 128, 1)  17          conv2d_18[0][0]                  \n",
      "==================================================================================================\n",
      "Total params: 1,941,105\n",
      "Trainable params: 1,941,105\n",
      "Non-trainable params: 0\n",
      "__________________________________________________________________________________________________\n"
     ]
    }
   ],
   "source": [
    "# Build U-Net model\n",
    "inputs = Input((IMG_HEIGHT, IMG_WIDTH, IMG_CHANNELS))\n",
    "s = Lambda(lambda x: x / 255) (inputs)\n",
    "\n",
    "c1 = Conv2D(16, (3, 3), activation='elu', kernel_initializer='he_normal', padding='same') (s)\n",
    "c1 = Dropout(0.1) (c1)\n",
    "c1 = Conv2D(16, (3, 3), activation='elu', kernel_initializer='he_normal', padding='same') (c1)\n",
    "p1 = MaxPooling2D((2, 2)) (c1)\n",
    "\n",
    "c2 = Conv2D(32, (3, 3), activation='elu', kernel_initializer='he_normal', padding='same') (p1)\n",
    "c2 = Dropout(0.1) (c2)\n",
    "c2 = Conv2D(32, (3, 3), activation='elu', kernel_initializer='he_normal', padding='same') (c2)\n",
    "p2 = MaxPooling2D((2, 2)) (c2)\n",
    "\n",
    "c3 = Conv2D(64, (3, 3), activation='elu', kernel_initializer='he_normal', padding='same') (p2)\n",
    "c3 = Dropout(0.2) (c3)\n",
    "c3 = Conv2D(64, (3, 3), activation='elu', kernel_initializer='he_normal', padding='same') (c3)\n",
    "p3 = MaxPooling2D((2, 2)) (c3)\n",
    "\n",
    "c4 = Conv2D(128, (3, 3), activation='elu', kernel_initializer='he_normal', padding='same') (p3)\n",
    "c4 = Dropout(0.2) (c4)\n",
    "c4 = Conv2D(128, (3, 3), activation='elu', kernel_initializer='he_normal', padding='same') (c4)\n",
    "p4 = MaxPooling2D(pool_size=(2, 2)) (c4)\n",
    "\n",
    "c5 = Conv2D(256, (3, 3), activation='elu', kernel_initializer='he_normal', padding='same') (p4)\n",
    "c5 = Dropout(0.3) (c5)\n",
    "c5 = Conv2D(256, (3, 3), activation='elu', kernel_initializer='he_normal', padding='same') (c5)\n",
    "\n",
    "u6 = Conv2DTranspose(128, (2, 2), strides=(2, 2), padding='same') (c5)\n",
    "u6 = concatenate([u6, c4])\n",
    "c6 = Conv2D(128, (3, 3), activation='elu', kernel_initializer='he_normal', padding='same') (u6)\n",
    "c6 = Dropout(0.2) (c6)\n",
    "c6 = Conv2D(128, (3, 3), activation='elu', kernel_initializer='he_normal', padding='same') (c6)\n",
    "\n",
    "u7 = Conv2DTranspose(64, (2, 2), strides=(2, 2), padding='same') (c6)\n",
    "u7 = concatenate([u7, c3])\n",
    "c7 = Conv2D(64, (3, 3), activation='elu', kernel_initializer='he_normal', padding='same') (u7)\n",
    "c7 = Dropout(0.2) (c7)\n",
    "c7 = Conv2D(64, (3, 3), activation='elu', kernel_initializer='he_normal', padding='same') (c7)\n",
    "\n",
    "u8 = Conv2DTranspose(32, (2, 2), strides=(2, 2), padding='same') (c7)\n",
    "u8 = concatenate([u8, c2])\n",
    "c8 = Conv2D(32, (3, 3), activation='elu', kernel_initializer='he_normal', padding='same') (u8)\n",
    "c8 = Dropout(0.1) (c8)\n",
    "c8 = Conv2D(32, (3, 3), activation='elu', kernel_initializer='he_normal', padding='same') (c8)\n",
    "\n",
    "u9 = Conv2DTranspose(16, (2, 2), strides=(2, 2), padding='same') (c8)\n",
    "u9 = concatenate([u9, c1], axis=3)\n",
    "c9 = Conv2D(16, (3, 3), activation='elu', kernel_initializer='he_normal', padding='same') (u9)\n",
    "c9 = Dropout(0.1) (c9)\n",
    "c9 = Conv2D(16, (3, 3), activation='elu', kernel_initializer='he_normal', padding='same') (c9)\n",
    "\n",
    "outputs = Conv2D(1, (1, 1), activation='sigmoid') (c9)\n",
    "\n",
    "model = Model(inputs=[inputs], outputs=[outputs])\n",
    "model.compile(optimizer='adam', loss='binary_crossentropy', metrics=[mean_iou, dice_coef])\n",
    "model.summary()"
   ]
  },
  {
   "cell_type": "markdown",
   "metadata": {
    "_cell_guid": "72330944-6ce7-4070-b276-c3c4b20c4fe5",
    "_uuid": "92350b6e18cc50f3fa7b6e9a02d39fcbff8238f7"
   },
   "source": [
    "*Update: Changed to ELU units, added dropout.*\n",
    "\n",
    "Next we fit the model on the training data, using a validation split of 0.1. We use a small batch size because we have so little data. I recommend using checkpointing and early stopping when training your model. I won't do it here to make things a bit more reproducible (although it's very likely that your results will be different anyway). I'll just train for 10 epochs, which takes around 10 minutes in the Kaggle kernel with the current parameters. \n",
    "\n",
    "*Update: Added early stopping and checkpointing and increased to 30 epochs.*"
   ]
  },
  {
   "cell_type": "code",
   "execution_count": 7,
   "metadata": {
    "_cell_guid": "9415b1c4-aa69-41b9-a1e3-d6053dbd4f64",
    "_uuid": "c060db22daa2abf12b28240cd81bbcbf1ce1bf87"
   },
   "outputs": [
    {
     "name": "stdout",
     "output_type": "stream",
     "text": [
      "Train on 603 samples, validate on 67 samples\n",
      "Epoch 1/10\n",
      "592/603 [============================>.] - ETA: 7:40 - loss: 0.6867 - mean_iou: 0.0000e+ - ETA: 5:50 - loss: 0.6668 - mean_iou: 0.2191   - ETA: 5:05 - loss: 0.6180 - mean_iou: 0.28 - ETA: 4:46 - loss: 0.5863 - mean_iou: 0.32 - ETA: 4:30 - loss: 0.5614 - mean_iou: 0.34 - ETA: 4:15 - loss: 0.5515 - mean_iou: 0.35 - ETA: 4:02 - loss: 0.5318 - mean_iou: 0.36 - ETA: 3:53 - loss: 0.5169 - mean_iou: 0.37 - ETA: 3:44 - loss: 0.5034 - mean_iou: 0.37 - ETA: 3:35 - loss: 0.4986 - mean_iou: 0.38 - ETA: 3:25 - loss: 0.4931 - mean_iou: 0.38 - ETA: 3:18 - loss: 0.4897 - mean_iou: 0.39 - ETA: 3:10 - loss: 0.4860 - mean_iou: 0.39 - ETA: 3:02 - loss: 0.4826 - mean_iou: 0.39 - ETA: 2:56 - loss: 0.4820 - mean_iou: 0.39 - ETA: 2:49 - loss: 0.4772 - mean_iou: 0.39 - ETA: 2:41 - loss: 0.4754 - mean_iou: 0.40 - ETA: 2:32 - loss: 0.4744 - mean_iou: 0.40 - ETA: 2:25 - loss: 0.4683 - mean_iou: 0.40 - ETA: 2:18 - loss: 0.4645 - mean_iou: 0.40 - ETA: 2:10 - loss: 0.4570 - mean_iou: 0.40 - ETA: 2:01 - loss: 0.4539 - mean_iou: 0.40 - ETA: 1:53 - loss: 0.4453 - mean_iou: 0.40 - ETA: 1:46 - loss: 0.4378 - mean_iou: 0.40 - ETA: 1:38 - loss: 0.4319 - mean_iou: 0.40 - ETA: 1:29 - loss: 0.4344 - mean_iou: 0.40 - ETA: 1:22 - loss: 0.4271 - mean_iou: 0.41 - ETA: 1:14 - loss: 0.4246 - mean_iou: 0.41 - ETA: 1:06 - loss: 0.4184 - mean_iou: 0.41 - ETA: 58s - loss: 0.4158 - mean_iou: 0.4141 - ETA: 51s - loss: 0.4111 - mean_iou: 0.415 - ETA: 43s - loss: 0.4110 - mean_iou: 0.416 - ETA: 35s - loss: 0.4127 - mean_iou: 0.417 - ETA: 28s - loss: 0.4078 - mean_iou: 0.418 - ETA: 20s - loss: 0.4049 - mean_iou: 0.419 - ETA: 12s - loss: 0.4010 - mean_iou: 0.420 - ETA: 5s - loss: 0.3980 - mean_iou: 0.4219 \n",
      "Epoch 00001: val_loss improved from inf to 0.20792, saving model to model-dsbowl2018-1.h5\n",
      "603/603 [==============================] - 297s 493ms/step - loss: 0.3972 - mean_iou: 0.4227 - val_loss: 0.2079 - val_mean_iou: 0.4670\n",
      "Epoch 2/10\n",
      "592/603 [============================>.] - ETA: 4:56 - loss: 0.2088 - mean_iou: 0.47 - ETA: 4:29 - loss: 0.2293 - mean_iou: 0.47 - ETA: 4:23 - loss: 0.2369 - mean_iou: 0.47 - ETA: 4:13 - loss: 0.2583 - mean_iou: 0.47 - ETA: 4:05 - loss: 0.2470 - mean_iou: 0.48 - ETA: 3:54 - loss: 0.2472 - mean_iou: 0.48 - ETA: 3:46 - loss: 0.2477 - mean_iou: 0.48 - ETA: 3:39 - loss: 0.2353 - mean_iou: 0.48 - ETA: 3:31 - loss: 0.2384 - mean_iou: 0.48 - ETA: 3:22 - loss: 0.2321 - mean_iou: 0.48 - ETA: 3:15 - loss: 0.2278 - mean_iou: 0.48 - ETA: 3:09 - loss: 0.2224 - mean_iou: 0.48 - ETA: 3:03 - loss: 0.2251 - mean_iou: 0.49 - ETA: 2:55 - loss: 0.2241 - mean_iou: 0.49 - ETA: 2:48 - loss: 0.2255 - mean_iou: 0.49 - ETA: 2:41 - loss: 0.2321 - mean_iou: 0.49 - ETA: 2:35 - loss: 0.2308 - mean_iou: 0.49 - ETA: 2:27 - loss: 0.2282 - mean_iou: 0.49 - ETA: 2:21 - loss: 0.2244 - mean_iou: 0.49 - ETA: 2:14 - loss: 0.2223 - mean_iou: 0.49 - ETA: 2:07 - loss: 0.2211 - mean_iou: 0.50 - ETA: 1:59 - loss: 0.2178 - mean_iou: 0.50 - ETA: 1:52 - loss: 0.2186 - mean_iou: 0.50 - ETA: 1:45 - loss: 0.2196 - mean_iou: 0.50 - ETA: 1:37 - loss: 0.2187 - mean_iou: 0.50 - ETA: 1:30 - loss: 0.2185 - mean_iou: 0.50 - ETA: 1:22 - loss: 0.2182 - mean_iou: 0.50 - ETA: 1:14 - loss: 0.2168 - mean_iou: 0.50 - ETA: 1:07 - loss: 0.2164 - mean_iou: 0.50 - ETA: 59s - loss: 0.2167 - mean_iou: 0.5110 - ETA: 51s - loss: 0.2159 - mean_iou: 0.512 - ETA: 44s - loss: 0.2132 - mean_iou: 0.513 - ETA: 36s - loss: 0.2134 - mean_iou: 0.514 - ETA: 28s - loss: 0.2117 - mean_iou: 0.515 - ETA: 20s - loss: 0.2102 - mean_iou: 0.516 - ETA: 13s - loss: 0.2090 - mean_iou: 0.516 - ETA: 5s - loss: 0.2083 - mean_iou: 0.5179 \n",
      "Epoch 00002: val_loss improved from 0.20792 to 0.16505, saving model to model-dsbowl2018-1.h5\n",
      "603/603 [==============================] - 307s 510ms/step - loss: 0.2075 - mean_iou: 0.5185 - val_loss: 0.1650 - val_mean_iou: 0.5573\n",
      "Epoch 3/10\n",
      "592/603 [============================>.] - ETA: 5:03 - loss: 0.1721 - mean_iou: 0.56 - ETA: 4:41 - loss: 0.1633 - mean_iou: 0.56 - ETA: 4:42 - loss: 0.1593 - mean_iou: 0.56 - ETA: 4:34 - loss: 0.1672 - mean_iou: 0.56 - ETA: 4:23 - loss: 0.1737 - mean_iou: 0.56 - ETA: 4:14 - loss: 0.1750 - mean_iou: 0.56 - ETA: 4:07 - loss: 0.1680 - mean_iou: 0.56 - ETA: 3:57 - loss: 0.1625 - mean_iou: 0.56 - ETA: 3:48 - loss: 0.1662 - mean_iou: 0.56 - ETA: 3:39 - loss: 0.1645 - mean_iou: 0.57 - ETA: 3:32 - loss: 0.1643 - mean_iou: 0.57 - ETA: 3:23 - loss: 0.1615 - mean_iou: 0.57 - ETA: 3:14 - loss: 0.1618 - mean_iou: 0.57 - ETA: 3:05 - loss: 0.1620 - mean_iou: 0.57 - ETA: 2:53 - loss: 0.1619 - mean_iou: 0.57 - ETA: 2:42 - loss: 0.1619 - mean_iou: 0.57 - ETA: 2:31 - loss: 0.1584 - mean_iou: 0.57 - ETA: 2:21 - loss: 0.1588 - mean_iou: 0.57 - ETA: 2:11 - loss: 0.1562 - mean_iou: 0.57 - ETA: 2:02 - loss: 0.1582 - mean_iou: 0.57 - ETA: 1:53 - loss: 0.1606 - mean_iou: 0.57 - ETA: 1:45 - loss: 0.1605 - mean_iou: 0.57 - ETA: 1:37 - loss: 0.1607 - mean_iou: 0.57 - ETA: 1:30 - loss: 0.1596 - mean_iou: 0.58 - ETA: 1:22 - loss: 0.1612 - mean_iou: 0.58 - ETA: 1:15 - loss: 0.1631 - mean_iou: 0.58 - ETA: 1:08 - loss: 0.1656 - mean_iou: 0.58 - ETA: 1:01 - loss: 0.1651 - mean_iou: 0.58 - ETA: 54s - loss: 0.1671 - mean_iou: 0.5836 - ETA: 47s - loss: 0.1669 - mean_iou: 0.584 - ETA: 41s - loss: 0.1680 - mean_iou: 0.584 - ETA: 34s - loss: 0.1665 - mean_iou: 0.585 - ETA: 28s - loss: 0.1667 - mean_iou: 0.586 - ETA: 22s - loss: 0.1685 - mean_iou: 0.586 - ETA: 16s - loss: 0.1681 - mean_iou: 0.587 - ETA: 9s - loss: 0.1698 - mean_iou: 0.588 - ETA: 4s - loss: 0.1694 - mean_iou: 0.5888\n",
      "Epoch 00003: val_loss improved from 0.16505 to 0.14778, saving model to model-dsbowl2018-1.h5\n",
      "603/603 [==============================] - 227s 377ms/step - loss: 0.1688 - mean_iou: 0.5892 - val_loss: 0.1478 - val_mean_iou: 0.6133\n",
      "Epoch 4/10\n",
      "592/603 [============================>.] - ETA: 2:54 - loss: 0.1674 - mean_iou: 0.61 - ETA: 2:46 - loss: 0.1636 - mean_iou: 0.61 - ETA: 2:42 - loss: 0.1534 - mean_iou: 0.61 - ETA: 2:34 - loss: 0.1507 - mean_iou: 0.61 - ETA: 2:27 - loss: 0.1526 - mean_iou: 0.61 - ETA: 2:22 - loss: 0.1514 - mean_iou: 0.61 - ETA: 2:16 - loss: 0.1538 - mean_iou: 0.61 - ETA: 2:10 - loss: 0.1528 - mean_iou: 0.62 - ETA: 2:06 - loss: 0.1625 - mean_iou: 0.62 - ETA: 2:02 - loss: 0.1664 - mean_iou: 0.62 - ETA: 1:58 - loss: 0.1640 - mean_iou: 0.62 - ETA: 1:53 - loss: 0.1603 - mean_iou: 0.62 - ETA: 1:48 - loss: 0.1593 - mean_iou: 0.62 - ETA: 1:45 - loss: 0.1572 - mean_iou: 0.62 - ETA: 1:40 - loss: 0.1567 - mean_iou: 0.62 - ETA: 1:37 - loss: 0.1568 - mean_iou: 0.62 - ETA: 1:32 - loss: 0.1559 - mean_iou: 0.62 - ETA: 1:27 - loss: 0.1521 - mean_iou: 0.62 - ETA: 1:23 - loss: 0.1502 - mean_iou: 0.62 - ETA: 1:19 - loss: 0.1498 - mean_iou: 0.62 - ETA: 1:14 - loss: 0.1492 - mean_iou: 0.62 - ETA: 1:10 - loss: 0.1504 - mean_iou: 0.62 - ETA: 1:05 - loss: 0.1513 - mean_iou: 0.62 - ETA: 1:01 - loss: 0.1486 - mean_iou: 0.62 - ETA: 56s - loss: 0.1482 - mean_iou: 0.6267 - ETA: 52s - loss: 0.1464 - mean_iou: 0.627 - ETA: 48s - loss: 0.1444 - mean_iou: 0.627 - ETA: 43s - loss: 0.1442 - mean_iou: 0.628 - ETA: 38s - loss: 0.1439 - mean_iou: 0.628 - ETA: 34s - loss: 0.1441 - mean_iou: 0.628 - ETA: 29s - loss: 0.1445 - mean_iou: 0.629 - ETA: 25s - loss: 0.1440 - mean_iou: 0.629 - ETA: 21s - loss: 0.1440 - mean_iou: 0.630 - ETA: 16s - loss: 0.1431 - mean_iou: 0.630 - ETA: 12s - loss: 0.1438 - mean_iou: 0.630 - ETA: 7s - loss: 0.1422 - mean_iou: 0.631 - ETA: 3s - loss: 0.1432 - mean_iou: 0.6317\n",
      "Epoch 00004: val_loss improved from 0.14778 to 0.13752, saving model to model-dsbowl2018-1.h5\n",
      "603/603 [==============================] - 176s 292ms/step - loss: 0.1437 - mean_iou: 0.6320 - val_loss: 0.1375 - val_mean_iou: 0.6489\n",
      "Epoch 5/10\n",
      "592/603 [============================>.] - ETA: 2:45 - loss: 0.1335 - mean_iou: 0.65 - ETA: 2:39 - loss: 0.1411 - mean_iou: 0.65 - ETA: 2:35 - loss: 0.1469 - mean_iou: 0.65 - ETA: 2:33 - loss: 0.1358 - mean_iou: 0.65 - ETA: 2:31 - loss: 0.1410 - mean_iou: 0.65 - ETA: 2:26 - loss: 0.1425 - mean_iou: 0.65 - ETA: 2:21 - loss: 0.1358 - mean_iou: 0.65 - ETA: 2:17 - loss: 0.1330 - mean_iou: 0.65 - ETA: 2:13 - loss: 0.1308 - mean_iou: 0.65 - ETA: 2:09 - loss: 0.1311 - mean_iou: 0.65 - ETA: 2:04 - loss: 0.1289 - mean_iou: 0.65 - ETA: 2:00 - loss: 0.1302 - mean_iou: 0.65 - ETA: 1:56 - loss: 0.1298 - mean_iou: 0.65 - ETA: 1:52 - loss: 0.1304 - mean_iou: 0.65 - ETA: 1:47 - loss: 0.1294 - mean_iou: 0.65 - ETA: 1:41 - loss: 0.1274 - mean_iou: 0.65 - ETA: 1:36 - loss: 0.1248 - mean_iou: 0.65 - ETA: 1:31 - loss: 0.1249 - mean_iou: 0.65 - ETA: 1:26 - loss: 0.1241 - mean_iou: 0.65 - ETA: 1:21 - loss: 0.1227 - mean_iou: 0.65 - ETA: 1:17 - loss: 0.1205 - mean_iou: 0.65 - ETA: 1:12 - loss: 0.1198 - mean_iou: 0.65 - ETA: 1:08 - loss: 0.1182 - mean_iou: 0.65 - ETA: 1:03 - loss: 0.1172 - mean_iou: 0.65 - ETA: 58s - loss: 0.1196 - mean_iou: 0.6585 - ETA: 53s - loss: 0.1215 - mean_iou: 0.658 - ETA: 48s - loss: 0.1205 - mean_iou: 0.659 - ETA: 44s - loss: 0.1220 - mean_iou: 0.659 - ETA: 39s - loss: 0.1224 - mean_iou: 0.659 - ETA: 35s - loss: 0.1205 - mean_iou: 0.660 - ETA: 30s - loss: 0.1211 - mean_iou: 0.660 - ETA: 26s - loss: 0.1209 - mean_iou: 0.660 - ETA: 21s - loss: 0.1198 - mean_iou: 0.661 - ETA: 16s - loss: 0.1198 - mean_iou: 0.661 - ETA: 12s - loss: 0.1207 - mean_iou: 0.661 - ETA: 7s - loss: 0.1211 - mean_iou: 0.662 - ETA: 3s - loss: 0.1211 - mean_iou: 0.6625\n",
      "Epoch 00005: val_loss improved from 0.13752 to 0.12353, saving model to model-dsbowl2018-1.h5\n",
      "603/603 [==============================] - 178s 295ms/step - loss: 0.1213 - mean_iou: 0.6627 - val_loss: 0.1235 - val_mean_iou: 0.6761\n",
      "Epoch 6/10\n",
      "592/603 [============================>.] - ETA: 2:52 - loss: 0.1353 - mean_iou: 0.67 - ETA: 2:47 - loss: 0.1301 - mean_iou: 0.67 - ETA: 2:40 - loss: 0.1355 - mean_iou: 0.67 - ETA: 2:31 - loss: 0.1300 - mean_iou: 0.67 - ETA: 2:26 - loss: 0.1284 - mean_iou: 0.67 - ETA: 2:25 - loss: 0.1177 - mean_iou: 0.67 - ETA: 2:22 - loss: 0.1161 - mean_iou: 0.67 - ETA: 2:18 - loss: 0.1152 - mean_iou: 0.67 - ETA: 2:11 - loss: 0.1135 - mean_iou: 0.67 - ETA: 2:05 - loss: 0.1167 - mean_iou: 0.68 - ETA: 2:00 - loss: 0.1156 - mean_iou: 0.68 - ETA: 1:54 - loss: 0.1161 - mean_iou: 0.68 - ETA: 1:49 - loss: 0.1142 - mean_iou: 0.68 - ETA: 1:44 - loss: 0.1177 - mean_iou: 0.68 - ETA: 1:40 - loss: 0.1194 - mean_iou: 0.68 - ETA: 1:35 - loss: 0.1181 - mean_iou: 0.68 - ETA: 1:30 - loss: 0.1197 - mean_iou: 0.68 - ETA: 1:26 - loss: 0.1197 - mean_iou: 0.68 - ETA: 1:21 - loss: 0.1172 - mean_iou: 0.68 - ETA: 1:16 - loss: 0.1165 - mean_iou: 0.68 - ETA: 1:12 - loss: 0.1167 - mean_iou: 0.68 - ETA: 1:07 - loss: 0.1180 - mean_iou: 0.68 - ETA: 1:03 - loss: 0.1179 - mean_iou: 0.68 - ETA: 58s - loss: 0.1168 - mean_iou: 0.6839 - ETA: 54s - loss: 0.1163 - mean_iou: 0.684 - ETA: 49s - loss: 0.1153 - mean_iou: 0.684 - ETA: 45s - loss: 0.1145 - mean_iou: 0.684 - ETA: 41s - loss: 0.1133 - mean_iou: 0.684 - ETA: 36s - loss: 0.1140 - mean_iou: 0.685 - ETA: 32s - loss: 0.1145 - mean_iou: 0.685 - ETA: 28s - loss: 0.1149 - mean_iou: 0.685 - ETA: 24s - loss: 0.1143 - mean_iou: 0.685 - ETA: 19s - loss: 0.1138 - mean_iou: 0.686 - ETA: 15s - loss: 0.1132 - mean_iou: 0.686 - ETA: 11s - loss: 0.1139 - mean_iou: 0.686 - ETA: 7s - loss: 0.1132 - mean_iou: 0.686 - ETA: 2s - loss: 0.1132 - mean_iou: 0.6871\n",
      "Epoch 00006: val_loss improved from 0.12353 to 0.11575, saving model to model-dsbowl2018-1.h5\n",
      "603/603 [==============================] - 166s 275ms/step - loss: 0.1129 - mean_iou: 0.6873 - val_loss: 0.1157 - val_mean_iou: 0.6970\n",
      "Epoch 7/10\n",
      "592/603 [============================>.] - ETA: 2:26 - loss: 0.0905 - mean_iou: 0.69 - ETA: 2:21 - loss: 0.1110 - mean_iou: 0.69 - ETA: 2:17 - loss: 0.0921 - mean_iou: 0.69 - ETA: 2:13 - loss: 0.0963 - mean_iou: 0.69 - ETA: 2:09 - loss: 0.1133 - mean_iou: 0.69 - ETA: 2:05 - loss: 0.1102 - mean_iou: 0.69 - ETA: 2:01 - loss: 0.1161 - mean_iou: 0.69 - ETA: 1:58 - loss: 0.1180 - mean_iou: 0.69 - ETA: 1:53 - loss: 0.1206 - mean_iou: 0.69 - ETA: 1:50 - loss: 0.1183 - mean_iou: 0.69 - ETA: 1:46 - loss: 0.1205 - mean_iou: 0.70 - ETA: 1:42 - loss: 0.1219 - mean_iou: 0.70 - ETA: 1:38 - loss: 0.1290 - mean_iou: 0.70 - ETA: 1:34 - loss: 0.1266 - mean_iou: 0.70 - ETA: 1:30 - loss: 0.1245 - mean_iou: 0.70 - ETA: 1:26 - loss: 0.1266 - mean_iou: 0.70 - ETA: 1:22 - loss: 0.1303 - mean_iou: 0.70 - ETA: 1:18 - loss: 0.1283 - mean_iou: 0.70 - ETA: 1:14 - loss: 0.1269 - mean_iou: 0.70 - ETA: 1:10 - loss: 0.1262 - mean_iou: 0.70 - ETA: 1:06 - loss: 0.1261 - mean_iou: 0.70 - ETA: 1:03 - loss: 0.1245 - mean_iou: 0.70 - ETA: 59s - loss: 0.1231 - mean_iou: 0.7020 - ETA: 54s - loss: 0.1216 - mean_iou: 0.702 - ETA: 50s - loss: 0.1238 - mean_iou: 0.702 - ETA: 46s - loss: 0.1244 - mean_iou: 0.702 - ETA: 42s - loss: 0.1233 - mean_iou: 0.702 - ETA: 39s - loss: 0.1218 - mean_iou: 0.702 - ETA: 35s - loss: 0.1211 - mean_iou: 0.702 - ETA: 31s - loss: 0.1203 - mean_iou: 0.703 - ETA: 27s - loss: 0.1188 - mean_iou: 0.703 - ETA: 23s - loss: 0.1176 - mean_iou: 0.703 - ETA: 18s - loss: 0.1171 - mean_iou: 0.703 - ETA: 14s - loss: 0.1171 - mean_iou: 0.703 - ETA: 10s - loss: 0.1166 - mean_iou: 0.703 - ETA: 6s - loss: 0.1163 - mean_iou: 0.704 - ETA: 2s - loss: 0.1154 - mean_iou: 0.7043\n",
      "Epoch 00007: val_loss improved from 0.11575 to 0.10539, saving model to model-dsbowl2018-1.h5\n",
      "603/603 [==============================] - 160s 265ms/step - loss: 0.1156 - mean_iou: 0.7044 - val_loss: 0.1054 - val_mean_iou: 0.7114\n",
      "Epoch 8/10\n",
      "592/603 [============================>.] - ETA: 2:31 - loss: 0.1342 - mean_iou: 0.71 - ETA: 2:26 - loss: 0.0966 - mean_iou: 0.71 - ETA: 2:20 - loss: 0.1110 - mean_iou: 0.71 - ETA: 2:15 - loss: 0.1052 - mean_iou: 0.71 - ETA: 2:10 - loss: 0.1010 - mean_iou: 0.71 - ETA: 2:07 - loss: 0.1031 - mean_iou: 0.71 - ETA: 2:04 - loss: 0.1064 - mean_iou: 0.71 - ETA: 2:00 - loss: 0.1068 - mean_iou: 0.71 - ETA: 1:56 - loss: 0.1047 - mean_iou: 0.71 - ETA: 1:53 - loss: 0.1030 - mean_iou: 0.71 - ETA: 1:49 - loss: 0.1009 - mean_iou: 0.71 - ETA: 1:45 - loss: 0.1007 - mean_iou: 0.71 - ETA: 1:41 - loss: 0.0980 - mean_iou: 0.71 - ETA: 1:38 - loss: 0.0946 - mean_iou: 0.71 - ETA: 1:34 - loss: 0.0984 - mean_iou: 0.71 - ETA: 1:30 - loss: 0.0973 - mean_iou: 0.71 - ETA: 1:26 - loss: 0.0970 - mean_iou: 0.71 - ETA: 1:22 - loss: 0.0989 - mean_iou: 0.71 - ETA: 1:18 - loss: 0.0990 - mean_iou: 0.71 - ETA: 1:14 - loss: 0.0991 - mean_iou: 0.71 - ETA: 1:11 - loss: 0.0991 - mean_iou: 0.71 - ETA: 1:07 - loss: 0.0976 - mean_iou: 0.71 - ETA: 1:03 - loss: 0.0982 - mean_iou: 0.71 - ETA: 58s - loss: 0.0978 - mean_iou: 0.7165 - ETA: 54s - loss: 0.0981 - mean_iou: 0.716 - ETA: 50s - loss: 0.0991 - mean_iou: 0.716 - ETA: 45s - loss: 0.1001 - mean_iou: 0.717 - ETA: 41s - loss: 0.1004 - mean_iou: 0.717 - ETA: 37s - loss: 0.1003 - mean_iou: 0.717 - ETA: 32s - loss: 0.1005 - mean_iou: 0.717 - ETA: 28s - loss: 0.1019 - mean_iou: 0.717 - ETA: 24s - loss: 0.1022 - mean_iou: 0.717 - ETA: 19s - loss: 0.1019 - mean_iou: 0.717 - ETA: 15s - loss: 0.1012 - mean_iou: 0.718 - ETA: 11s - loss: 0.1013 - mean_iou: 0.718 - ETA: 7s - loss: 0.1005 - mean_iou: 0.718 - ETA: 2s - loss: 0.1014 - mean_iou: 0.7185\n",
      "Epoch 00008: val_loss improved from 0.10539 to 0.10019, saving model to model-dsbowl2018-1.h5\n",
      "603/603 [==============================] - 166s 276ms/step - loss: 0.1022 - mean_iou: 0.7186 - val_loss: 0.1002 - val_mean_iou: 0.7248\n",
      "Epoch 9/10\n"
     ]
    },
    {
     "name": "stdout",
     "output_type": "stream",
     "text": [
      "592/603 [============================>.] - ETA: 2:25 - loss: 0.0995 - mean_iou: 0.72 - ETA: 2:21 - loss: 0.0817 - mean_iou: 0.72 - ETA: 2:17 - loss: 0.0862 - mean_iou: 0.72 - ETA: 2:12 - loss: 0.0879 - mean_iou: 0.72 - ETA: 2:08 - loss: 0.0859 - mean_iou: 0.72 - ETA: 2:04 - loss: 0.0908 - mean_iou: 0.72 - ETA: 2:00 - loss: 0.0969 - mean_iou: 0.72 - ETA: 1:56 - loss: 0.0943 - mean_iou: 0.72 - ETA: 1:52 - loss: 0.0931 - mean_iou: 0.72 - ETA: 1:48 - loss: 0.0934 - mean_iou: 0.72 - ETA: 1:45 - loss: 0.0934 - mean_iou: 0.72 - ETA: 1:41 - loss: 0.0974 - mean_iou: 0.72 - ETA: 1:37 - loss: 0.0973 - mean_iou: 0.72 - ETA: 1:33 - loss: 0.0958 - mean_iou: 0.72 - ETA: 1:29 - loss: 0.0983 - mean_iou: 0.72 - ETA: 1:25 - loss: 0.0977 - mean_iou: 0.72 - ETA: 1:21 - loss: 0.0972 - mean_iou: 0.72 - ETA: 1:17 - loss: 0.0965 - mean_iou: 0.72 - ETA: 1:13 - loss: 0.0964 - mean_iou: 0.72 - ETA: 1:09 - loss: 0.0959 - mean_iou: 0.72 - ETA: 1:05 - loss: 0.0965 - mean_iou: 0.72 - ETA: 1:01 - loss: 0.0971 - mean_iou: 0.72 - ETA: 57s - loss: 0.0973 - mean_iou: 0.7286 - ETA: 54s - loss: 0.0966 - mean_iou: 0.728 - ETA: 50s - loss: 0.0970 - mean_iou: 0.728 - ETA: 46s - loss: 0.0982 - mean_iou: 0.729 - ETA: 42s - loss: 0.1001 - mean_iou: 0.729 - ETA: 38s - loss: 0.0997 - mean_iou: 0.729 - ETA: 34s - loss: 0.0989 - mean_iou: 0.729 - ETA: 30s - loss: 0.0995 - mean_iou: 0.729 - ETA: 26s - loss: 0.0987 - mean_iou: 0.729 - ETA: 22s - loss: 0.1000 - mean_iou: 0.729 - ETA: 18s - loss: 0.1004 - mean_iou: 0.729 - ETA: 14s - loss: 0.1005 - mean_iou: 0.730 - ETA: 10s - loss: 0.1006 - mean_iou: 0.730 - ETA: 6s - loss: 0.1004 - mean_iou: 0.730 - ETA: 2s - loss: 0.1017 - mean_iou: 0.7303\n",
      "Epoch 00009: val_loss improved from 0.10019 to 0.09381, saving model to model-dsbowl2018-1.h5\n",
      "603/603 [==============================] - 158s 261ms/step - loss: 0.1012 - mean_iou: 0.7304 - val_loss: 0.0938 - val_mean_iou: 0.7355\n",
      "Epoch 10/10\n",
      "592/603 [============================>.] - ETA: 2:27 - loss: 0.0715 - mean_iou: 0.73 - ETA: 2:22 - loss: 0.0809 - mean_iou: 0.73 - ETA: 2:18 - loss: 0.0760 - mean_iou: 0.73 - ETA: 2:16 - loss: 0.0877 - mean_iou: 0.73 - ETA: 2:12 - loss: 0.0789 - mean_iou: 0.73 - ETA: 2:10 - loss: 0.0784 - mean_iou: 0.73 - ETA: 2:08 - loss: 0.0829 - mean_iou: 0.73 - ETA: 2:04 - loss: 0.0863 - mean_iou: 0.73 - ETA: 2:00 - loss: 0.0865 - mean_iou: 0.73 - ETA: 1:56 - loss: 0.0874 - mean_iou: 0.73 - ETA: 1:52 - loss: 0.0887 - mean_iou: 0.73 - ETA: 1:47 - loss: 0.0911 - mean_iou: 0.73 - ETA: 1:44 - loss: 0.0909 - mean_iou: 0.73 - ETA: 1:40 - loss: 0.0911 - mean_iou: 0.73 - ETA: 1:36 - loss: 0.0890 - mean_iou: 0.73 - ETA: 1:32 - loss: 0.0899 - mean_iou: 0.73 - ETA: 1:28 - loss: 0.0915 - mean_iou: 0.73 - ETA: 1:23 - loss: 0.0908 - mean_iou: 0.73 - ETA: 1:19 - loss: 0.0933 - mean_iou: 0.73 - ETA: 1:14 - loss: 0.0931 - mean_iou: 0.73 - ETA: 1:11 - loss: 0.0944 - mean_iou: 0.73 - ETA: 1:06 - loss: 0.0943 - mean_iou: 0.73 - ETA: 1:02 - loss: 0.0941 - mean_iou: 0.73 - ETA: 58s - loss: 0.0933 - mean_iou: 0.7387 - ETA: 54s - loss: 0.0919 - mean_iou: 0.738 - ETA: 49s - loss: 0.0928 - mean_iou: 0.739 - ETA: 45s - loss: 0.0922 - mean_iou: 0.739 - ETA: 41s - loss: 0.0925 - mean_iou: 0.739 - ETA: 37s - loss: 0.0923 - mean_iou: 0.739 - ETA: 33s - loss: 0.0924 - mean_iou: 0.739 - ETA: 29s - loss: 0.0917 - mean_iou: 0.739 - ETA: 24s - loss: 0.0927 - mean_iou: 0.739 - ETA: 20s - loss: 0.0928 - mean_iou: 0.739 - ETA: 16s - loss: 0.0918 - mean_iou: 0.739 - ETA: 11s - loss: 0.0937 - mean_iou: 0.740 - ETA: 7s - loss: 0.0940 - mean_iou: 0.740 - ETA: 2s - loss: 0.0940 - mean_iou: 0.7402\n",
      "Epoch 00010: val_loss did not improve\n",
      "603/603 [==============================] - 170s 282ms/step - loss: 0.0943 - mean_iou: 0.7403 - val_loss: 0.0986 - val_mean_iou: 0.7449\n"
     ]
    }
   ],
   "source": [
    "# Fit model\n",
    "earlystopper = EarlyStopping(patience=5, verbose=1)\n",
    "checkpointer = ModelCheckpoint('model-dsbowl2018-1.h5', verbose=1, save_best_only=True)\n",
    "results = model.fit(X_train, Y_train, validation_split=0.1, batch_size=16, epochs=10, \n",
    "                    callbacks=[earlystopper, checkpointer])"
   ]
  },
  {
   "cell_type": "markdown",
   "metadata": {
    "_cell_guid": "1f381f5b-1b71-4daa-a417-e02f4894540b",
    "_uuid": "bb15226ea617cf91ed8f43179fccb5a15809e5a0"
   },
   "source": [
    "All right, looks good! Loss seems to be a bit erratic, though. I'll leave it to you to improve the model architecture and parameters! \n",
    "\n",
    "# Make predictions\n",
    "\n",
    "Let's make predictions both on the test set, the val set and the train set (as a sanity check). Remember to load the best saved model if you've used early stopping and checkpointing."
   ]
  },
  {
   "cell_type": "code",
   "execution_count": 8,
   "metadata": {
    "_cell_guid": "2daa48d5-ac98-4e18-af3f-a582baaa44f0",
    "_uuid": "f841760b4abca1a25cb750822f88268bd79bf2ce"
   },
   "outputs": [
    {
     "name": "stdout",
     "output_type": "stream",
     "text": [
      "603/603 [==============================] - ETA: 50 - ETA: 46 - ETA: 43 - ETA: 40 - ETA: 37 - ETA: 35 - ETA: 33 - ETA: 30 - ETA: 27 - ETA: 24 - ETA: 22 - ETA: 19 - ETA: 16 - ETA: 13 - ETA: 10 - ETA: 7 - ETA:  - ETA:  - 52s 87ms/step\n",
      "67/67 [==============================] - ETA:  - ETA:  - 6s 83ms/step\n",
      "65/65 [==============================] - ETA:  - ETA:  - 5s 81ms/step\n"
     ]
    }
   ],
   "source": [
    "# Predict on train, val and test\n",
    "model = load_model('model-dsbowl2018-1.h5', custom_objects={'mean_iou': mean_iou})\n",
    "preds_train = model.predict(X_train[:int(X_train.shape[0]*0.9)], verbose=1)\n",
    "preds_val = model.predict(X_train[int(X_train.shape[0]*0.9):], verbose=1)\n",
    "preds_test = model.predict(X_test, verbose=1)\n",
    "\n",
    "# Threshold predictions\n",
    "preds_train_t = (preds_train > 0.5).astype(np.uint8)\n",
    "preds_val_t = (preds_val > 0.5).astype(np.uint8)\n",
    "preds_test_t = (preds_test > 0.5).astype(np.uint8)\n",
    "\n",
    "# Create list of upsampled test masks\n",
    "preds_test_upsampled = []\n",
    "for i in range(len(preds_test)):\n",
    "    preds_test_upsampled.append(resize(np.squeeze(preds_test[i]), \n",
    "                                       (sizes_test[i][0], sizes_test[i][1]), \n",
    "                                       mode='constant', preserve_range=True))"
   ]
  },
  {
   "cell_type": "code",
   "execution_count": 9,
   "metadata": {
    "_cell_guid": "649248cd-a1fb-4da6-ade2-4bebad44bcab",
    "_uuid": "7e06242a50870e07a080064a4912b761775990fa"
   },
   "outputs": [
    {
     "data": {
      "image/png": "[encoded data removed]",
      "text/plain": [
       "<matplotlib.figure.Figure at 0x1dd54a85ac8>"
      ]
     },
     "metadata": {},
     "output_type": "display_data"
    },
    {
     "data": {
      "image/png": "[encoded data removed]",
      "text/plain": [
       "<matplotlib.figure.Figure at 0x1dd4b920e10>"
      ]
     },
     "metadata": {},
     "output_type": "display_data"
    },
    {
     "data": {
      "image/png": "[encoded data removed]",
      "text/plain": [
       "<matplotlib.figure.Figure at 0x1dd54b204a8>"
      ]
     },
     "metadata": {},
     "output_type": "display_data"
    }
   ],
   "source": [
    "# Perform a sanity check on some random training samples\n",
    "ix = random.randint(0, len(preds_train_t))\n",
    "imshow(X_train[ix])\n",
    "plt.show()\n",
    "imshow(np.squeeze(Y_train[ix]))\n",
    "plt.show()\n",
    "imshow(np.squeeze(preds_train_t[ix]))\n",
    "plt.show()"
   ]
  },
  {
   "cell_type": "markdown",
   "metadata": {
    "_cell_guid": "af602aea-5e56-42a8-9331-54b4b2650593",
    "_uuid": "5fcee2b9aee2fba5c60d43ad48a14139e9c1318c"
   },
   "source": [
    "The model is at least able to fit to the training data! Certainly a lot of room for improvement even here, but a decent start. How about the validation data?"
   ]
  },
  {
   "cell_type": "code",
   "execution_count": 10,
   "metadata": {
    "_cell_guid": "4f66b75c-c694-41a1-8c91-34bb6595837b",
    "_uuid": "d4ccbb559375bc2777ffb692a20adc313159f2cc"
   },
   "outputs": [
    {
     "data": {
      "image/png": "[encoded data removed]",
      "text/plain": [
       "<matplotlib.figure.Figure at 0x1dd54a85b00>"
      ]
     },
     "metadata": {},
     "output_type": "display_data"
    },
    {
     "data": {
      "image/png": "[encoded data removed]",
      "text/plain": [
       "<matplotlib.figure.Figure at 0x1dd04afa390>"
      ]
     },
     "metadata": {},
     "output_type": "display_data"
    },
    {
     "data": {
      "image/png": "[encoded data removed]",
      "text/plain": [
       "<matplotlib.figure.Figure at 0x1dd04b28ef0>"
      ]
     },
     "metadata": {},
     "output_type": "display_data"
    }
   ],
   "source": [
    "# Perform a sanity check on some random validation samples\n",
    "ix = random.randint(0, len(preds_val_t))\n",
    "imshow(X_train[int(X_train.shape[0]*0.9):][ix])\n",
    "plt.show()\n",
    "imshow(np.squeeze(Y_train[int(Y_train.shape[0]*0.9):][ix]))\n",
    "plt.show()\n",
    "imshow(np.squeeze(preds_val_t[ix]))\n",
    "plt.show()"
   ]
  },
  {
   "cell_type": "markdown",
   "metadata": {
    "_cell_guid": "a6690535-b2e4-49ac-98d9-7191bfabfb6f",
    "_uuid": "6a34c98de7c6ae473f676a34fe7e099b46764eca"
   },
   "source": [
    "Not too shabby! Definitely needs some more training and tweaking.\n",
    "\n",
    "# Encode and submit our results\n",
    "\n",
    "Now it's time to submit our results. I've stolen [this](https://www.kaggle.com/rakhlin/fast-run-length-encoding-python) excellent implementation of run-length encoding."
   ]
  },
  {
   "cell_type": "code",
   "execution_count": 11,
   "metadata": {
    "_cell_guid": "59a0af60-a7d7-41ef-a6fe-9e3c72defa07",
    "_uuid": "4f99c1bf852e82b60bd4f982ca0df293f712cdf0",
    "collapsed": true
   },
   "outputs": [],
   "source": [
    "# Run-length encoding stolen from https://www.kaggle.com/rakhlin/fast-run-length-encoding-python\n",
    "def rle_encoding(x):\n",
    "    dots = np.where(x.T.flatten() == 1)[0]\n",
    "    run_lengths = []\n",
    "    prev = -2\n",
    "    for b in dots:\n",
    "        if (b>prev+1): run_lengths.extend((b + 1, 0))\n",
    "        run_lengths[-1] += 1\n",
    "        prev = b\n",
    "    return run_lengths\n",
    "\n",
    "def prob_to_rles(x, cutoff=0.5):\n",
    "    lab_img = label(x > cutoff)\n",
    "    for i in range(1, lab_img.max() + 1):\n",
    "        yield rle_encoding(lab_img == i)"
   ]
  },
  {
   "cell_type": "markdown",
   "metadata": {
    "_cell_guid": "31133f8c-3f40-4dff-8e1d-898d56672332",
    "_uuid": "2e07f6afc4787b068ba714428145dcb3951d718f"
   },
   "source": [
    "Let's iterate over the test IDs and generate run-length encodings for each seperate mask identified by skimage ..."
   ]
  },
  {
   "cell_type": "code",
   "execution_count": 12,
   "metadata": {
    "_cell_guid": "22fe24a1-7659-4cc9-9d23-211f38e5b99f",
    "_uuid": "089587843ed6a3955fdcb9b23a6ec3bf5d703688",
    "collapsed": true
   },
   "outputs": [],
   "source": [
    "new_test_ids = []\n",
    "rles = []\n",
    "for n, id_ in enumerate(test_ids):\n",
    "    rle = list(prob_to_rles(preds_test_upsampled[n]))\n",
    "    rles.extend(rle)\n",
    "    new_test_ids.extend([id_] * len(rle))"
   ]
  },
  {
   "cell_type": "markdown",
   "metadata": {
    "_cell_guid": "20b6b627-0fd6-425d-888f-da7f39efb124",
    "_uuid": "849184a40a2c9c21506d8b8eb10ad9155fa229e8"
   },
   "source": [
    "... and then finally create our submission!"
   ]
  },
  {
   "cell_type": "code",
   "execution_count": 13,
   "metadata": {
    "_cell_guid": "1ba0ee3a-cca0-4349-83f6-09a1ac6fcb44",
    "_uuid": "ba589f56f5be1e6886bc88f5bf9e7d0a408e4048",
    "collapsed": true
   },
   "outputs": [],
   "source": [
    "# Create submission DataFrame\n",
    "sub = pd.DataFrame()\n",
    "sub['ImageId'] = new_test_ids\n",
    "sub['EncodedPixels'] = pd.Series(rles).apply(lambda x: ' '.join(str(y) for y in x))\n",
    "sub.to_csv('sub-dsbowl2018-1_stockUnet.csv', index=False)"
   ]
  },
  {
   "cell_type": "markdown",
   "metadata": {
    "_cell_guid": "222475b9-3171-461a-90f0-a820a6bd2634",
    "_uuid": "fb5e6f8cca872f1bd7036f6d9ac2ed2cab615536",
    "collapsed": true
   },
   "source": [
    "This scored 0.233 on the LB for me. That was with version 2 of this notebook; be aware that the results from the neural network are extremely erratic and vary greatly from run to run (version 3 is significantly worse, for example). Version 7 scores 0.277!\n",
    "\n",
    "You should easily be able to stabilize and improve the results just by changing a few parameters, tweaking the architecture a little bit and training longer with early stopping.\n",
    "\n",
    "**Have fun!**\n",
    "\n",
    "LB score history:\n",
    "- Version 7: 0.277 LB"
   ]
  },
  {
   "cell_type": "code",
   "execution_count": null,
   "metadata": {
    "_cell_guid": "3f5e5a47-6133-4870-976a-a8e4fa7bf46c",
    "_uuid": "2a83eab66bf55194f300953bea5534b6a043130f",
    "collapsed": true
   },
   "outputs": [],
   "source": []
  }
 ],
 "metadata": {
  "kernelspec": {
   "display_name": "Python 3",
   "language": "python",
   "name": "python3"
  },
  "language_info": {
   "codemirror_mode": {
    "name": "ipython",
    "version": 3
   },
   "file_extension": ".py",
   "mimetype": "text/x-python",
   "name": "python",
   "nbconvert_exporter": "python",
   "pygments_lexer": "ipython3",
   "version": "3.6.4"
  }
 },
 "nbformat": 4,
 "nbformat_minor": 1
}
